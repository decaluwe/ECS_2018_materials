{
 "cells": [
  {
   "cell_type": "markdown",
   "metadata": {},
   "source": [
    "## Import necessary modules"
   ]
  },
  {
   "cell_type": "code",
   "execution_count": 1,
   "metadata": {},
   "outputs": [],
   "source": [
    "import cantera as ct\n",
    "import numpy as np\n",
    "import pylab as plt"
   ]
  },
  {
   "cell_type": "markdown",
   "metadata": {},
   "source": [
    "## Specify input files and phases"
   ]
  },
  {
   "cell_type": "code",
   "execution_count": 2,
   "metadata": {},
   "outputs": [],
   "source": [
    "# File for gas phase model: GRI 3.0 (CH4 combution)\n",
    "gasfile = 'gri30.cti'\n",
    "gas_phase = 'gri30_mix'"
   ]
  },
  {
   "cell_type": "markdown",
   "metadata": {},
   "source": [
    "## Create a gas phase Cantera object\n",
    "Set T and P to 300 K, 1 atm:"
   ]
  },
  {
   "cell_type": "code",
   "execution_count": 3,
   "metadata": {},
   "outputs": [
    {
     "name": "stdout",
     "output_type": "stream",
     "text": [
      "\n",
      "  gri30_mix:\n",
      "\n",
      "       temperature   300 K\n",
      "          pressure   1.0133e+05 Pa\n",
      "           density   0.081894 kg/m^3\n",
      "  mean mol. weight   2.016 kg/kmol\n",
      "   phase of matter   gas\n",
      "\n",
      "                          1 kg             1 kmol     \n",
      "                     ---------------   ---------------\n",
      "          enthalpy             26469             53361  J\n",
      "   internal energy       -1.2108e+06        -2.441e+06  J\n",
      "           entropy             64910        1.3086e+05  J/K\n",
      "    Gibbs function       -1.9447e+07       -3.9204e+07  J\n",
      " heat capacity c_p             14311             28851  J/K\n",
      " heat capacity c_v             10187             20536  J/K\n",
      "\n",
      "                      mass frac. Y      mole frac. X     chem. pot. / RT\n",
      "                     ---------------   ---------------   ---------------\n",
      "                H2                 1                 1           -15.717\n",
      "     [  +52 minor]                 0                 0  \n",
      "\n"
     ]
    }
   ],
   "source": [
    "gas = ct.Solution(gasfile,gas_phase)\n",
    "gas.TP = 300, ct.one_atm\n",
    "gas()"
   ]
  },
  {
   "cell_type": "markdown",
   "metadata": {},
   "source": [
    "## Here is some input/output for composition:\n",
    "We can read out properties to variable arrays:"
   ]
  },
  {
   "cell_type": "code",
   "execution_count": 4,
   "metadata": {},
   "outputs": [
    {
     "name": "stdout",
     "output_type": "stream",
     "text": [
      "[1. 0. 0. 0. 0. 0. 0. 0. 0. 0. 0. 0. 0. 0. 0. 0. 0. 0. 0. 0. 0. 0. 0. 0.\n",
      " 0. 0. 0. 0. 0. 0. 0. 0. 0. 0. 0. 0. 0. 0. 0. 0. 0. 0. 0. 0. 0. 0. 0. 0.\n",
      " 0. 0. 0. 0. 0.]\n"
     ]
    }
   ],
   "source": [
    "molefracs = gas.X\n",
    "print(molefracs)"
   ]
  },
  {
   "cell_type": "markdown",
   "metadata": {},
   "source": [
    "## Set all molefractions to 1/n_species:"
   ]
  },
  {
   "cell_type": "code",
   "execution_count": 5,
   "metadata": {},
   "outputs": [
    {
     "name": "stdout",
     "output_type": "stream",
     "text": [
      "53\n",
      "\n",
      "  gri30_mix:\n",
      "\n",
      "       temperature   300 K\n",
      "          pressure   7074.3 Pa\n",
      "           density   0.081894 kg/m^3\n",
      "  mean mol. weight   28.875 kg/kmol\n",
      "   phase of matter   gas\n",
      "\n",
      "                          1 kg             1 kmol     \n",
      "                     ---------------   ---------------\n",
      "          enthalpy        3.8025e+06         1.098e+08  J\n",
      "   internal energy        3.7161e+06         1.073e+08  J\n",
      "           entropy            9302.1         2.686e+05  J/K\n",
      "    Gibbs function        1.0119e+06        2.9218e+07  J\n",
      " heat capacity c_p            1351.9             39038  J/K\n",
      " heat capacity c_v              1064             30723  J/K\n",
      "\n",
      "                      mass frac. Y      mole frac. X     chem. pot. / RT\n",
      "                     ---------------   ---------------   ---------------\n",
      "                H2         0.0013173          0.018868           -22.349\n",
      "                 H        0.00065866          0.018868            66.967\n",
      "                 O          0.010454          0.018868            73.892\n",
      "                O2          0.020908          0.018868           -31.306\n",
      "                OH          0.011113          0.018868           -12.956\n",
      "               H2O          0.011772          0.018868           -126.29\n",
      "               HO2          0.021567          0.018868           -29.155\n",
      "              H2O2          0.022226          0.018868           -89.314\n",
      "                 C         0.0078483          0.018868            261.67\n",
      "                CH          0.008507          0.018868            210.83\n",
      "               CH2         0.0091656          0.018868            127.27\n",
      "            CH2(S)         0.0091656          0.018868            142.96\n",
      "               CH3         0.0098243          0.018868            28.927\n",
      "               CH4          0.010483          0.018868           -58.955\n",
      "                CO          0.018303          0.018868           -74.717\n",
      "               CO2          0.028757          0.018868           -190.11\n",
      "               HCO          0.018961          0.018868           -16.775\n",
      "              CH2O           0.01962          0.018868           -76.474\n",
      "             CH2OH          0.020279          0.018868           -41.833\n",
      "              CH3O          0.020279          0.018868           -27.576\n",
      "             CH3OH          0.020937          0.018868           -116.03\n",
      "               C2H          0.016355          0.018868             194.7\n",
      "              C2H2          0.017014          0.018868             60.69\n",
      "              C2H3          0.017673          0.018868            85.405\n",
      "              C2H4          0.018331          0.018868           -11.963\n",
      "              C2H5           0.01899          0.018868            11.217\n",
      "              C2H6          0.019649          0.018868           -67.818\n",
      "              HCCO           0.02681          0.018868            34.822\n",
      "             CH2CO          0.027468          0.018868           -54.848\n",
      "             HCCOH          0.027468          0.018868           -3.5675\n",
      "                 N         0.0091526          0.018868            164.43\n",
      "                NH         0.0098112          0.018868            114.66\n",
      "               NH2           0.01047          0.018868            46.909\n",
      "               NH3          0.011129          0.018868           -48.218\n",
      "               NNH          0.018964          0.018868            66.399\n",
      "                NO          0.019607          0.018868            4.6097\n",
      "               NO2          0.030061          0.018868            -21.81\n",
      "               N2O          0.028759          0.018868          -0.37929\n",
      "               HNO          0.020265          0.018868            9.3974\n",
      "                CN          0.017001          0.018868            144.87\n",
      "               HCN           0.01766          0.018868            21.539\n",
      "              H2CN          0.018318          0.018868            65.554\n",
      "              HCNN          0.026812          0.018868            148.55\n",
      "              HCNO          0.028114          0.018868            32.747\n",
      "              HOCN          0.028114          0.018868           -40.483\n",
      "              HNCO          0.028114          0.018868           -82.924\n",
      "               NCO          0.027455          0.018868            18.256\n",
      "                N2          0.018305          0.018868           -29.665\n",
      "                AR          0.026104          0.018868           -25.242\n",
      "              C3H7          0.028156          0.018868           -1.1556\n",
      "              C3H8          0.028814          0.018868           -80.763\n",
      "            CH2CHO          0.028127          0.018868           -28.779\n",
      "            CH3CHO          0.028786          0.018868              -105\n",
      "\n"
     ]
    }
   ],
   "source": [
    "nsp = gas.n_species\n",
    "print(nsp)\n",
    "gas.X = np.ones(molefracs.shape)/nsp\n",
    "gas()"
   ]
  },
  {
   "cell_type": "markdown",
   "metadata": {},
   "source": [
    "## Another, equivalent method:"
   ]
  },
  {
   "cell_type": "code",
   "execution_count": null,
   "metadata": {},
   "outputs": [],
   "source": [
    "molefracs = np.ones(molefracs.shape)\n",
    "gas.TPX = None, None, molefracs\n",
    "gas()"
   ]
  },
  {
   "cell_type": "markdown",
   "metadata": {},
   "source": [
    "## Thermodynamic Properties:"
   ]
  },
  {
   "cell_type": "code",
   "execution_count": null,
   "metadata": {},
   "outputs": [],
   "source": [
    "mu_k = gas.chemical_potentials\n",
    "print(mu_k)"
   ]
  },
  {
   "cell_type": "markdown",
   "metadata": {},
   "source": [
    "## Transport Properties:"
   ]
  },
  {
   "cell_type": "code",
   "execution_count": null,
   "metadata": {},
   "outputs": [],
   "source": [
    "D_jk = gas.binary_diff_coeffs\n",
    "print(D_jk.shape)\n",
    "D_jk"
   ]
  },
  {
   "cell_type": "code",
   "execution_count": null,
   "metadata": {},
   "outputs": [],
   "source": []
  }
 ],
 "metadata": {
  "kernelspec": {
   "display_name": "Python 3",
   "language": "python",
   "name": "python3"
  },
  "language_info": {
   "codemirror_mode": {
    "name": "ipython",
    "version": 3
   },
   "file_extension": ".py",
   "mimetype": "text/x-python",
   "name": "python",
   "nbconvert_exporter": "python",
   "pygments_lexer": "ipython3",
   "version": "3.7.6"
  }
 },
 "nbformat": 4,
 "nbformat_minor": 2
}
