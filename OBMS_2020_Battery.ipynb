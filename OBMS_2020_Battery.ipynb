{
 "cells": [
  {
   "cell_type": "markdown",
   "metadata": {},
   "source": [
    "# Battery Simulation Capabilities\n"
   ]
  },
  {
   "cell_type": "markdown",
   "metadata": {},
   "source": [
    "## Import necessary modules"
   ]
  },
  {
   "cell_type": "code",
   "execution_count": 1,
   "metadata": {},
   "outputs": [],
   "source": [
    "import cantera as ct\n",
    "import numpy as np\n",
    "import pylab as plt"
   ]
  },
  {
   "cell_type": "markdown",
   "metadata": {},
   "source": [
    "## List phase names:"
   ]
  },
  {
   "cell_type": "code",
   "execution_count": null,
   "metadata": {},
   "outputs": [],
   "source": [
    "# File for battery anode simulation: developed in-house\n",
    "batfile_1 = 'W_anode.cti'\n",
    "# File with more complex SEI chemistry:\n",
    "batfile_2 = 'W_anode_chem.cti'\n",
    "\n",
    "anode_phase = 'tungsten'\n",
    "elyte_phase = 'electrolyte'\n",
    "SEI_phase = 'SEI'\n",
    "anode_SEI_int = 'tungsten_SEI_surf'\n",
    "SEI_elyte_int = 'SEI_electrolyte_surf'\n",
    "anode_elyte_int = 'tungsten_electrolyte_surf'\n"
   ]
  },
  {
   "cell_type": "markdown",
   "metadata": {},
   "source": [
    "## Initialize Cantera objects"
   ]
  },
  {
   "cell_type": "code",
   "execution_count": null,
   "metadata": {},
   "outputs": [],
   "source": [
    "infile = batfile_1\n",
    "anode = ct.Solution(infile,anode_phase)\n",
    "elyte = ct.Solution(infile,elyte_phase)\n",
    "SEI = ct.Solution(infile,SEI_phase)\n",
    "anode_elyte = ct.Interface(infile,anode_elyte_int,[anode,elyte,SEI])"
   ]
  },
  {
   "cell_type": "markdown",
   "metadata": {},
   "source": [
    "# Set the phase properties (including electric potentials):"
   ]
  },
  {
   "cell_type": "code",
   "execution_count": null,
   "metadata": {},
   "outputs": [],
   "source": [
    "anode.TP = 300, ct.one_atm\n",
    "elyte.TP = 300, ct.one_atm\n",
    "\n",
    "anode.electric_potential = 1.2\n",
    "anode_elyte.electric_potential = 1.2\n",
    "elyte.electric_potential = 0.0\n",
    "SEI.X = '(dummy):1.0, Li2CO3(SEI):1e-6'\n",
    "anode()\n",
    "elyte()"
   ]
  },
  {
   "cell_type": "markdown",
   "metadata": {},
   "source": [
    "## Read out species production rates at anode/electrolyte interface:\n",
    "\n",
    "Faradaic current:\n",
    "\\begin{equation}\n",
    "i = F\\dot{s}_{Li^+}\n",
    "\\end{equation}\n",
    "\n",
    "Conservation of anode species:\n",
    "\n",
    "\\begin{equation}\n",
    "\\frac{\\partial X_{k,\\,{\\rm graphite}}}{\\partial t} = -\\nabla J_k \n",
    "\\end{equation}\n",
    "\n",
    "where:\n",
    "\\begin{equation}\n",
    "J_k|_{r=R} = \\dot{s}_{k,\\, int}\n",
    "\\end{equation}\n",
    "\n",
    "and:\n",
    "\n",
    "\\begin{equation}\n",
    "\\dot{s}_{k,\\,int} = \\nu_{k,j}\\dot{q}_j,\n",
    "\\end{equation}\n",
    "\n",
    "\\begin{equation}\n",
    "\\dot{q}_j = k_{fwd}\\prod\\left[C_{ac,k}\\right]^{\\nu_{k,j}^\\prime}\\exp\\left(-\\frac{nF\\beta_{fwd}\\Delta\\Phi}{RT}\\right) - k_{rev}\\prod\\left[C_{ac,k}\\right]^{\\nu_{k,j}^{\\prime\\prime}}\\exp\\left(\\frac{nF\\beta_{rev}\\Delta\\Phi}{RT}\\right)\n",
    "\\end{equation}\n",
    "and:\n",
    "\\begin{equation}\n",
    "k_{rev} = \\frac{k_{fwd}}{K_{\\rm eq}}\n",
    "\\end{equation}"
   ]
  },
  {
   "cell_type": "code",
   "execution_count": null,
   "metadata": {},
   "outputs": [],
   "source": [
    "sdot = anode_elyte.net_production_rates"
   ]
  },
  {
   "cell_type": "markdown",
   "metadata": {},
   "source": [
    "Production rates are in the order (from the cti file):\n",
    "\n",
    "<p1><center>Tungsten Species (1)</center></p1>\n",
    "<p1><center> Electrolyte Species (5)</center></p1>\n",
    "<p1><center> SEI Species (2)</center></p1>\n",
    "<p1><center> Interface Species (1)</center></p1>\n",
    "\n"
   ]
  },
  {
   "cell_type": "code",
   "execution_count": null,
   "metadata": {},
   "outputs": [],
   "source": [
    "sdot.reshape((sdot.size,1))"
   ]
  },
  {
   "cell_type": "markdown",
   "metadata": {},
   "source": [
    "## Let's load something with more complex chemistry:"
   ]
  },
  {
   "cell_type": "code",
   "execution_count": null,
   "metadata": {},
   "outputs": [],
   "source": [
    "infile = batfile_2\n",
    "anode = ct.Solution(infile,anode_phase)\n",
    "elyte = ct.Solution(infile,elyte_phase)\n",
    "SEI = ct.Solution(infile,SEI_phase)\n",
    "anode_elyte = ct.Interface(infile,anode_elyte_int,[anode,elyte,SEI])"
   ]
  },
  {
   "cell_type": "markdown",
   "metadata": {},
   "source": [
    "## Explore the phase species:"
   ]
  },
  {
   "cell_type": "code",
   "execution_count": null,
   "metadata": {},
   "outputs": [],
   "source": [
    "print(elyte.species_names)\n",
    "print(SEI.species_names)"
   ]
  },
  {
   "cell_type": "markdown",
   "metadata": {},
   "source": [
    "## Set the phase properties"
   ]
  },
  {
   "cell_type": "code",
   "execution_count": null,
   "metadata": {},
   "outputs": [],
   "source": [
    "anode.TP = 300, ct.one_atm\n",
    "elyte.TP = 300, ct.one_atm\n",
    "\n",
    "anode.electric_potential = 1.2\n",
    "anode_elyte.electric_potential = 1.2\n",
    "elyte.electric_potential = 0.0"
   ]
  },
  {
   "cell_type": "markdown",
   "metadata": {},
   "source": [
    "## Read out the production rates:"
   ]
  },
  {
   "cell_type": "code",
   "execution_count": null,
   "metadata": {},
   "outputs": [],
   "source": [
    "sdot = anode_elyte.net_production_rates\n",
    "sdot.reshape((sdot.size,1))"
   ]
  },
  {
   "cell_type": "markdown",
   "metadata": {},
   "source": [
    "The order of phases is still the same:\n",
    "\n",
    "<p1><center>Tungsten Species (?)</center></p1>\n",
    "<p1><center> Electrolyte Species (?)</center></p1>\n",
    "<p1><center> SEI Species (?)</center></p1>\n",
    "<p1><center> Interface Species (?)</center></p1>\n",
    "\n",
    "The phases just have different numbers of species.  However, we can use Cantera routines so that the derivative arrays are all correctly sized, automatically:"
   ]
  },
  {
   "cell_type": "code",
   "execution_count": null,
   "metadata": {},
   "outputs": [],
   "source": [
    "print('n_anode: ',anode.n_species)\n",
    "print('n_elyte: ',elyte.n_species)\n",
    "print('n_SEI: ',SEI.n_species)\n",
    "print('n_int: ',anode_elyte.n_species)"
   ]
  },
  {
   "cell_type": "code",
   "execution_count": null,
   "metadata": {},
   "outputs": [],
   "source": [
    "V = np.linspace(1.5,0.25,15)\n",
    "i = np.zeros_like(V)\n",
    "for index,E in enumerate(V):\n",
    "    anode.electric_potential = E\n",
    "    i[index] = ct.faraday*anode_elyte.net_production_rates[0]\n",
    "    print(round(E,2), round(i[index],2))"
   ]
  },
  {
   "cell_type": "code",
   "execution_count": null,
   "metadata": {},
   "outputs": [],
   "source": [
    "plt.figure()\n",
    "plt.plot(V,i)\n",
    "plt.show()"
   ]
  },
  {
   "cell_type": "code",
   "execution_count": null,
   "metadata": {},
   "outputs": [],
   "source": []
  }
 ],
 "metadata": {
  "kernelspec": {
   "display_name": "Python 3",
   "language": "python",
   "name": "python3"
  },
  "language_info": {
   "codemirror_mode": {
    "name": "ipython",
    "version": 3
   },
   "file_extension": ".py",
   "mimetype": "text/x-python",
   "name": "python",
   "nbconvert_exporter": "python",
   "pygments_lexer": "ipython3",
   "version": "3.7.6"
  }
 },
 "nbformat": 4,
 "nbformat_minor": 2
}
